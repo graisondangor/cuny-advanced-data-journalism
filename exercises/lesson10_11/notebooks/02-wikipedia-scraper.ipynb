{
 "cells": [
  {
   "cell_type": "code",
   "execution_count": 13,
   "metadata": {},
   "outputs": [
    {
     "ename": "ModuleNotFoundError",
     "evalue": "No module named 'pandas'",
     "output_type": "error",
     "traceback": [
      "\u001b[0;31m---------------------------------------------------------------------------\u001b[0m",
      "\u001b[0;31mModuleNotFoundError\u001b[0m                       Traceback (most recent call last)",
      "\u001b[0;32m<ipython-input-13-c84a78443f0d>\u001b[0m in \u001b[0;36m<module>\u001b[0;34m\u001b[0m\n\u001b[1;32m      3\u001b[0m \u001b[0;32mimport\u001b[0m \u001b[0mrequests\u001b[0m\u001b[0;34m\u001b[0m\u001b[0m\n\u001b[1;32m      4\u001b[0m \u001b[0;32mimport\u001b[0m \u001b[0mcsv\u001b[0m\u001b[0;34m\u001b[0m\u001b[0m\n\u001b[0;32m----> 5\u001b[0;31m \u001b[0;32mimport\u001b[0m \u001b[0mpandas\u001b[0m \u001b[0;32mas\u001b[0m \u001b[0mpd\u001b[0m\u001b[0;34m\u001b[0m\u001b[0m\n\u001b[0m",
      "\u001b[0;31mModuleNotFoundError\u001b[0m: No module named 'pandas'"
     ]
    }
   ],
   "source": [
    "#Import our modules or packages that we will need to scrape a website\n",
    "from bs4 import BeautifulSoup\n",
    "import requests\n",
    "import csv \n",
    "import pandas as pd"
   ]
  },
  {
   "cell_type": "code",
   "execution_count": 2,
   "metadata": {},
   "outputs": [],
   "source": [
    "# open the web site\n",
    "url = \"https://en.wikipedia.org/wiki/Category:Women_computer_scientists\"\n",
    "page = requests.get(url)\n",
    "page_content = page.content"
   ]
  },
  {
   "cell_type": "code",
   "execution_count": 3,
   "metadata": {},
   "outputs": [
    {
     "name": "stdout",
     "output_type": "stream",
     "text": [
      "<div class=\"mw-category\"><div class=\"mw-category-group\"><h3>A</h3>\n",
      "<ul><li><a href=\"/wiki/Janet_Abbate\" title=\"Janet Abbate\">Janet Abbate</a></li>\n",
      "<li><a href=\"/wiki/T%C3%BClay_Adal%C4%B1\" title=\"Tülay Adalı\">Tülay Adalı</a></li>\n",
      "<li><a href=\"/wiki/Sarita_Adve\" title=\"Sarita Adve\">Sarita Adve</a></li>\n",
      "<li><a href=\"/wiki/Frances_E._Allen\" title=\"Frances E. Allen\">Frances E. Allen</a></li>\n",
      "<li><a href=\"/wiki/Sarah_Allen_(software_developer)\" title=\"Sarah Allen (software developer)\">Sarah Allen (software developer)</a></li>\n",
      "<li><a href=\"/wiki/Nancy_M._Amato\" title=\"Nancy M. Amato\">Nancy M. Amato</a></li>\n",
      "<li><a href=\"/wiki/Nina_Amenta\" title=\"Nina Amenta\">Nina Amenta</a></li>\n",
      "<li><a href=\"/wiki/Dana_Angluin\" title=\"Dana Angluin\">Dana Angluin</a></li>\n",
      "<li><a href=\"/wiki/Lisa_Anthony\" title=\"Lisa Anthony\">Lisa Anthony</a></li>\n",
      "<li><a href=\"/wiki/Annie_Ant%C3%B3n\" title=\"Annie Antón\">Annie Antón</a></li>\n",
      "<li><a href=\"/wiki/Cecilia_R._Aragon\" title=\"Cecilia R. Aragon\">Cecilia R. Aragon</a></li>\n",
      "<li><a href=\"/wiki/Gillian_Arnold_(technologist)\" title=\"Gillian Arnold (technologist)\">Gillian Arnold (technologist)</a></li>\n",
      "<li><a href=\"/wiki/Winifred_Asprey\" title=\"Winifred Asprey\">Winifred Asprey</a></li>\n",
      "<li><a href=\"/wiki/Stella_Atkins\" title=\"Stella Atkins\">Stella Atkins</a></li>\n",
      "<li><a href=\"/wiki/Terri_Attwood\" title=\"Terri Attwood\">Terri Attwood</a></li>\n",
      "<li><a href=\"/wiki/Donna_Auguste\" title=\"Donna Auguste\">Donna Auguste</a></li>\n",
      "<li><a href=\"/wiki/Henriette_Avram\" title=\"Henriette Avram\">Henriette Avram</a></li></ul></div><div class=\"mw-category-group\"><h3>B</h3>\n",
      "<ul><li><a href=\"/wiki/Rebecca_Bace\" title=\"Rebecca Bace\">Rebecca Bace</a></li>\n",
      "<li><a href=\"/wiki/Ruzena_Bajcsy\" title=\"Ruzena Bajcsy\">Ruzena Bajcsy</a></li>\n",
      "<li><a href=\"/wiki/Brenda_Baker\" title=\"Brenda Baker\">Brenda Baker</a></li>\n",
      "<li><a href=\"/wiki/Valerie_Barr\" title=\"Valerie Barr\">Valerie Barr</a></li>\n",
      "<li><a href=\"/wiki/Jean_Bartik\" title=\"Jean Bartik\">Jean Bartik</a></li>\n",
      "<li><a href=\"/wiki/Regina_Barzilay\" title=\"Regina Barzilay\">Regina Barzilay</a></li>\n",
      "<li><a href=\"/wiki/Evelyn_Berezin\" title=\"Evelyn Berezin\">Evelyn Berezin</a></li>\n",
      "<li><a href=\"/wiki/Bonnie_Berger\" title=\"Bonnie Berger\">Bonnie Berger</a></li>\n",
      "<li><a href=\"/wiki/Marsha_Berger\" title=\"Marsha Berger\">Marsha Berger</a></li>\n",
      "<li><a href=\"/wiki/Francine_Berman\" title=\"Francine Berman\">Francine Berman</a></li>\n",
      "<li><a href=\"/wiki/Danielle_Bunten_Berry\" title=\"Danielle Bunten Berry\">Danielle Bunten Berry</a></li>\n",
      "<li><a href=\"/wiki/Kim_Binsted\" title=\"Kim Binsted\">Kim Binsted</a></li>\n",
      "<li><a href=\"/wiki/Rachel_Binx\" title=\"Rachel Binx\">Rachel Binx</a></li>\n",
      "<li><a href=\"/wiki/Dorothy_Blum\" title=\"Dorothy Blum\">Dorothy Blum</a></li>\n",
      "<li><a href=\"/wiki/Sharla_Boehm\" title=\"Sharla Boehm\">Sharla Boehm</a></li>\n",
      "<li><a href=\"/wiki/Gloria_Gordon_Bolotsky\" title=\"Gloria Gordon Bolotsky\">Gloria Gordon Bolotsky</a></li>\n",
      "<li><a href=\"/wiki/Paula_Bonta\" title=\"Paula Bonta\">Paula Bonta</a></li>\n",
      "<li><a href=\"/wiki/Anita_Borg\" title=\"Anita Borg\">Anita Borg</a></li>\n",
      "<li><a href=\"/wiki/Lorraine_Borman\" title=\"Lorraine Borman\">Lorraine Borman</a></li>\n",
      "<li><a href=\"/wiki/Carla_Brodley\" title=\"Carla Brodley\">Carla Brodley</a></li>\n",
      "<li><a href=\"/wiki/Maxine_D._Brown\" title=\"Maxine D. Brown\">Maxine D. Brown</a></li>\n",
      "<li><a href=\"/wiki/A._J._Bernheim_Brush\" title=\"A. J. Bernheim Brush\">A. J. Bernheim Brush</a></li>\n",
      "<li><a href=\"/wiki/Joanna_Bryson\" title=\"Joanna Bryson\">Joanna Bryson</a></li>\n",
      "<li><a href=\"/wiki/Joy_Buolamwini\" title=\"Joy Buolamwini\">Joy Buolamwini</a></li>\n",
      "<li><a href=\"/wiki/Margaret_Burnett\" title=\"Margaret Burnett\">Margaret Burnett</a></li>\n",
      "<li><a href=\"/wiki/Margaret_K._Butler\" title=\"Margaret K. Butler\">Margaret K. Butler</a></li></ul></div><div class=\"mw-category-group\"><h3>C</h3>\n",
      "<ul><li><a href=\"/wiki/Sheeri_Cabral\" title=\"Sheeri Cabral\">Sheeri Cabral</a></li>\n",
      "<li><a href=\"/wiki/Tracy_Camp\" title=\"Tracy Camp\">Tracy Camp</a></li>\n",
      "<li><a href=\"/wiki/Shuchi_Chawla\" title=\"Shuchi Chawla\">Shuchi Chawla</a></li>\n",
      "<li><a href=\"/wiki/Jennifer_Tour_Chayes\" title=\"Jennifer Tour Chayes\">Jennifer Tour Chayes</a></li>\n",
      "<li><a href=\"/wiki/Lorinda_Cherry\" title=\"Lorinda Cherry\">Lorinda Cherry</a></li>\n",
      "<li><a href=\"/wiki/Judy_Clapp\" title=\"Judy Clapp\">Judy Clapp</a></li>\n",
      "<li><a href=\"/wiki/Lori_A._Clarke\" title=\"Lori A. Clarke\">Lori A. Clarke</a></li>\n",
      "<li><a href=\"/wiki/Joanne_M._Cohoon\" title=\"Joanne M. Cohoon\">Joanne M. Cohoon</a></li>\n",
      "<li><a href=\"/wiki/Lynn_Conway\" title=\"Lynn Conway\">Lynn Conway</a></li>\n",
      "<li><a href=\"/wiki/Danese_Cooper\" title=\"Danese Cooper\">Danese Cooper</a></li>\n",
      "<li><a href=\"/wiki/Corinna_Cortes\" title=\"Corinna Cortes\">Corinna Cortes</a></li>\n",
      "<li><a href=\"/wiki/Radhia_Cousot\" title=\"Radhia Cousot\">Radhia Cousot</a></li>\n",
      "<li><a href=\"/wiki/Kate_Craig-Wood\" title=\"Kate Craig-Wood\">Kate Craig-Wood</a></li>\n",
      "<li><a href=\"/wiki/Marian_Croak\" title=\"Marian Croak\">Marian Croak</a></li>\n",
      "<li><a href=\"/wiki/Carolina_Cruz-Neira\" title=\"Carolina Cruz-Neira\">Carolina Cruz-Neira</a></li>\n",
      "<li><a href=\"/wiki/Leah_Culver\" title=\"Leah Culver\">Leah Culver</a></li>\n",
      "<li><a href=\"/wiki/Janice_E._Cuny\" title=\"Janice E. Cuny\">Janice E. Cuny</a></li>\n",
      "<li><a href=\"/wiki/Mary_Czerwinski\" title=\"Mary Czerwinski\">Mary Czerwinski</a></li></ul></div><div class=\"mw-category-group\"><h3>D</h3>\n",
      "<ul><li><a href=\"/wiki/Weili_Dai\" title=\"Weili Dai\">Weili Dai</a></li>\n",
      "<li><a href=\"/wiki/Nell_B._Dale\" title=\"Nell B. Dale\">Nell B. Dale</a></li>\n",
      "<li><a href=\"/wiki/Frederica_Darema\" title=\"Frederica Darema\">Frederica Darema</a></li>\n",
      "<li><a href=\"/wiki/Margaret_Oakley_Dayhoff\" title=\"Margaret Oakley Dayhoff\">Margaret Oakley Dayhoff</a></li>\n",
      "<li><a href=\"/wiki/Ruth_Dayhoff\" title=\"Ruth Dayhoff\">Ruth Dayhoff</a></li>\n",
      "<li><a href=\"/wiki/Rina_Dechter\" title=\"Rina Dechter\">Rina Dechter</a></li>\n",
      "<li><a href=\"/wiki/Gladys_del_Estal\" title=\"Gladys del Estal\">Gladys del Estal</a></li>\n",
      "<li><a href=\"/wiki/Dorothy_E._Denning\" title=\"Dorothy E. Denning\">Dorothy E. Denning</a></li>\n",
      "<li><a href=\"/wiki/Marie_desJardins\" title=\"Marie desJardins\">Marie desJardins</a></li>\n",
      "<li><a href=\"/wiki/Rose_Dieng-Kuntz\" title=\"Rose Dieng-Kuntz\">Rose Dieng-Kuntz</a></li>\n",
      "<li><a href=\"/wiki/Judith_Donath\" title=\"Judith Donath\">Judith Donath</a></li>\n",
      "<li><a href=\"/wiki/Sarah_Ann_Douglas\" title=\"Sarah Ann Douglas\">Sarah Ann Douglas</a></li>\n",
      "<li><a href=\"/wiki/Susan_Dumais\" title=\"Susan Dumais\">Susan Dumais</a></li>\n",
      "<li><a href=\"/wiki/Cynthia_Dwork\" title=\"Cynthia Dwork\">Cynthia Dwork</a></li></ul></div><div class=\"mw-category-group\"><h3>E</h3>\n",
      "<ul><li><a href=\"/wiki/Annie_Easley\" title=\"Annie Easley\">Annie Easley</a></li>\n",
      "<li><a href=\"/wiki/Susan_J._Eggers\" title=\"Susan J. Eggers\">Susan J. Eggers</a></li>\n",
      "<li><a href=\"/wiki/Susan_Eisenbach\" title=\"Susan Eisenbach\">Susan Eisenbach</a></li>\n",
      "<li><a href=\"/wiki/Elaine_Cohen\" title=\"Elaine Cohen\">Elaine Cohen</a></li>\n",
      "<li><a href=\"/wiki/Alexandra_Elbakyan\" title=\"Alexandra Elbakyan\">Alexandra Elbakyan</a></li>\n",
      "<li><a href=\"/wiki/Carla_Ellis\" title=\"Carla Ellis\">Carla Ellis</a></li>\n",
      "<li><a href=\"/wiki/Elza_Erkip\" title=\"Elza Erkip\">Elza Erkip</a></li>\n",
      "<li><a href=\"/wiki/Deborah_Estrin\" title=\"Deborah Estrin\">Deborah Estrin</a></li>\n",
      "<li><a href=\"/wiki/Thelma_Estrin\" title=\"Thelma Estrin\">Thelma Estrin</a></li></ul></div><div class=\"mw-category-group\"><h3>F</h3>\n",
      "<ul><li><a href=\"/wiki/Joan_Feigenbaum\" title=\"Joan Feigenbaum\">Joan Feigenbaum</a></li>\n",
      "<li><a href=\"/wiki/Danielle_Feinberg\" title=\"Danielle Feinberg\">Danielle Feinberg</a></li>\n",
      "<li><a href=\"/wiki/Anja_Feldmann\" title=\"Anja Feldmann\">Anja Feldmann</a></li>\n",
      "<li><a href=\"/wiki/Mary_Fern%C3%A1ndez\" title=\"Mary Fernández\">Mary Fernández</a></li>\n",
      "<li><a href=\"/wiki/Jeanne_Ferrante\" title=\"Jeanne Ferrante\">Jeanne Ferrante</a></li>\n",
      "<li><a href=\"/wiki/Kathleen_Fisher\" title=\"Kathleen Fisher\">Kathleen Fisher</a></li>\n",
      "<li><a href=\"/wiki/Sally_Floyd\" title=\"Sally Floyd\">Sally Floyd</a></li>\n",
      "<li><a href=\"/wiki/Stephanie_Forrest\" title=\"Stephanie Forrest\">Stephanie Forrest</a></li>\n",
      "<li><a href=\"/wiki/Alexandra_Illmer_Forsythe\" title=\"Alexandra Illmer Forsythe\">Alexandra Illmer Forsythe</a></li>\n",
      "<li><a href=\"/wiki/Margaret_R._Fox\" title=\"Margaret R. Fox\">Margaret R. Fox</a></li>\n",
      "<li><a href=\"/wiki/Phyllis_Fox\" title=\"Phyllis Fox\">Phyllis Fox</a></li>\n",
      "<li><a href=\"/wiki/Jessica_Fridrich\" title=\"Jessica Fridrich\">Jessica Fridrich</a></li>\n",
      "<li><a href=\"/wiki/Ping_Fu\" title=\"Ping Fu\">Ping Fu</a></li></ul></div><div class=\"mw-category-group\"><h3>G</h3>\n",
      "<ul><li><a href=\"/wiki/Susan_Gerhart\" title=\"Susan Gerhart\">Susan Gerhart</a></li>\n",
      "<li><a href=\"/wiki/Lise_Getoor\" title=\"Lise Getoor\">Lise Getoor</a></li>\n",
      "<li><a href=\"/wiki/Yolanda_Gil\" title=\"Yolanda Gil\">Yolanda Gil</a></li>\n",
      "<li><a href=\"/wiki/Anna_C._Gilbert\" title=\"Anna C. Gilbert\">Anna C. Gilbert</a></li>\n",
      "<li><a href=\"/wiki/Carole_Goble\" title=\"Carole Goble\">Carole Goble</a></li>\n",
      "<li><a href=\"/wiki/Jen_Golbeck\" title=\"Jen Golbeck\">Jen Golbeck</a></li>\n",
      "<li><a href=\"/wiki/Adele_Goldberg_(computer_scientist)\" title=\"Adele Goldberg (computer scientist)\">Adele Goldberg (computer scientist)</a></li>\n",
      "<li><a href=\"/wiki/Andrea_Goldsmith_(engineer)\" title=\"Andrea Goldsmith (engineer)\">Andrea Goldsmith (engineer)</a></li>\n",
      "<li><a href=\"/wiki/Adele_Goldstine\" title=\"Adele Goldstine\">Adele Goldstine</a></li>\n",
      "<li><a href=\"/wiki/Amy_Ashurst_Gooch\" title=\"Amy Ashurst Gooch\">Amy Ashurst Gooch</a></li>\n",
      "<li><a href=\"/wiki/Sarah_Gordon\" title=\"Sarah Gordon\">Sarah Gordon</a></li>\n",
      "<li><a href=\"/wiki/Susan_L._Graham\" title=\"Susan L. Graham\">Susan L. Graham</a></li>\n",
      "<li><a href=\"/wiki/Evelyn_Boyd_Granville\" title=\"Evelyn Boyd Granville\">Evelyn Boyd Granville</a></li>\n",
      "<li><a href=\"/wiki/Kristen_Grauman\" title=\"Kristen Grauman\">Kristen Grauman</a></li>\n",
      "<li><a href=\"/wiki/Diane_Greene\" title=\"Diane Greene\">Diane Greene</a></li>\n",
      "<li><a href=\"/wiki/Sheila_Greibach\" title=\"Sheila Greibach\">Sheila Greibach</a></li>\n",
      "<li><a href=\"/wiki/Irene_Greif\" title=\"Irene Greif\">Irene Greif</a></li>\n",
      "<li><a href=\"/wiki/Nancy_Davis_Griffeth\" title=\"Nancy Davis Griffeth\">Nancy Davis Griffeth</a></li></ul></div><div class=\"mw-category-group\"><h3>H</h3>\n",
      "<ul><li><a href=\"/wiki/Laura_M._Haas\" title=\"Laura M. Haas\">Laura M. Haas</a></li>\n",
      "<li><a href=\"/wiki/Lois_Haibt\" title=\"Lois Haibt\">Lois Haibt</a></li>\n",
      "<li><a href=\"/wiki/Ashawna_Hailey\" title=\"Ashawna Hailey\">Ashawna Hailey</a></li>\n",
      "<li><a href=\"/wiki/Margaret_Hamilton_(scientist)\" title=\"Margaret Hamilton (scientist)\">Margaret Hamilton (scientist)</a></li>\n",
      "<li><a href=\"/wiki/Jessica_Hammer\" title=\"Jessica Hammer\">Jessica Hammer</a></li>\n",
      "<li><a href=\"/wiki/Vicki_L._Hanson\" title=\"Vicki L. Hanson\">Vicki L. Hanson</a></li>\n",
      "<li><a href=\"/wiki/Mor_Harchol-Balter\" title=\"Mor Harchol-Balter\">Mor Harchol-Balter</a></li>\n",
      "<li><a href=\"/wiki/Mary_Jean_Harrold\" title=\"Mary Jean Harrold\">Mary Jean Harrold</a></li>\n",
      "<li><a href=\"/wiki/Tanzima_Hashem\" title=\"Tanzima Hashem\">Tanzima Hashem</a></li>\n",
      "<li><a href=\"/wiki/Mary_K._Hawes\" title=\"Mary K. Hawes\">Mary K. Hawes</a></li>\n",
      "<li><a href=\"/wiki/Marti_Hearst\" title=\"Marti Hearst\">Marti Hearst</a></li>\n",
      "<li><a href=\"/wiki/Laurie_Hendren\" title=\"Laurie Hendren\">Laurie Hendren</a></li>\n",
      "<li><a href=\"/wiki/Nadia_Heninger\" title=\"Nadia Heninger\">Nadia Heninger</a></li>\n",
      "<li><a href=\"/wiki/Starr_Roxanne_Hiltz\" title=\"Starr Roxanne Hiltz\">Starr Roxanne Hiltz</a></li>\n",
      "<li><a href=\"/wiki/Julia_Hirschberg\" title=\"Julia Hirschberg\">Julia Hirschberg</a></li>\n",
      "<li><a href=\"/wiki/Thea_D._Hodge\" title=\"Thea D. Hodge\">Thea D. Hodge</a></li>\n",
      "<li><a href=\"/wiki/Jessica_Hodgins\" title=\"Jessica Hodgins\">Jessica Hodgins</a></li>\n",
      "<li><a href=\"/wiki/Betty_Holberton\" title=\"Betty Holberton\">Betty Holberton</a></li>\n",
      "<li><a href=\"/wiki/Karen_Holtzblatt\" title=\"Karen Holtzblatt\">Karen Holtzblatt</a></li>\n",
      "<li><a href=\"/wiki/Molly_Holzschlag\" title=\"Molly Holzschlag\">Molly Holzschlag</a></li>\n",
      "<li><a href=\"/wiki/Grace_Hopper\" title=\"Grace Hopper\">Grace Hopper</a></li>\n",
      "<li><a href=\"/wiki/Susan_B._Horwitz\" title=\"Susan B. Horwitz\">Susan B. Horwitz</a></li>\n",
      "<li><a href=\"/wiki/Ayanna_Howard\" title=\"Ayanna Howard\">Ayanna Howard</a></li>\n",
      "<li><a href=\"/wiki/Sandra_Hutchins\" title=\"Sandra Hutchins\">Sandra Hutchins</a></li></ul></div><div class=\"mw-category-group\"><h3>I</h3>\n",
      "<ul><li><a href=\"/wiki/Lila_Ibrahim\" title=\"Lila Ibrahim\">Lila Ibrahim</a></li>\n",
      "<li><a href=\"/wiki/Mary_Jane_Irwin\" title=\"Mary Jane Irwin\">Mary Jane Irwin</a></li></ul></div><div class=\"mw-category-group\"><h3>J</h3>\n",
      "<ul><li><a href=\"/wiki/Divya_Jain\" title=\"Divya Jain\">Divya Jain</a></li>\n",
      "<li><a href=\"/wiki/Leah_Jamieson\" title=\"Leah Jamieson\">Leah Jamieson</a></li>\n",
      "<li><a href=\"/wiki/Katherine_Johnson\" title=\"Katherine Johnson\">Katherine Johnson</a></li>\n",
      "<li><a href=\"/wiki/Lynne_Jolitz\" title=\"Lynne Jolitz\">Lynne Jolitz</a></li>\n",
      "<li><a href=\"/wiki/Anita_K._Jones\" title=\"Anita K. Jones\">Anita K. Jones</a></li>\n",
      "<li><a href=\"/wiki/Nata%C5%A1a_Jonoska\" title=\"Nataša Jonoska\">Nataša Jonoska</a></li></ul></div><div class=\"mw-category-group\"><h3>K</h3>\n",
      "<ul><li><a href=\"/wiki/Leslie_P._Kaelbling\" title=\"Leslie P. Kaelbling\">Leslie P. Kaelbling</a></li>\n",
      "<li><a href=\"/wiki/Yael_Tauman_Kalai\" title=\"Yael Tauman Kalai\">Yael Tauman Kalai</a></li>\n",
      "<li><a href=\"/wiki/Anna_Karlin\" title=\"Anna Karlin\">Anna Karlin</a></li>\n",
      "<li><a href=\"/wiki/Lydia_Kavraki\" title=\"Lydia Kavraki\">Lydia Kavraki</a></li>\n",
      "<li><a href=\"/wiki/Mary_Kenneth_Keller\" title=\"Mary Kenneth Keller\">Mary Kenneth Keller</a></li>\n",
      "<li><a href=\"/wiki/Wendy_Kellogg\" title=\"Wendy Kellogg\">Wendy Kellogg</a></li>\n",
      "<li><a href=\"/wiki/Martine_Kempf\" title=\"Martine Kempf\">Martine Kempf</a></li>\n",
      "<li><a href=\"/wiki/Kim_Rees\" title=\"Kim Rees\">Kim Rees</a></li>\n",
      "<li><a href=\"/wiki/Maria_Klawe\" title=\"Maria Klawe\">Maria Klawe</a></li>\n",
      "<li><a href=\"/wiki/Tamara_G._Kolda\" title=\"Tamara G. Kolda\">Tamara G. Kolda</a></li>\n",
      "<li><a href=\"/wiki/Daphne_Koller\" title=\"Daphne Koller\">Daphne Koller</a></li>\n",
      "<li><a href=\"/wiki/Janet_L._Kolodner\" title=\"Janet L. Kolodner\">Janet L. Kolodner</a></li>\n",
      "<li><a href=\"/wiki/Jana_Ko%C5%A1eck%C3%A1\" title=\"Jana Košecká\">Jana Košecká</a></li>\n",
      "<li><a href=\"/wiki/V%C4%9Bra_K%C5%AFrkov%C3%A1\" title=\"Věra Kůrková\">Věra Kůrková</a></li></ul></div><div class=\"mw-category-group\"><h3>L</h3>\n",
      "<ul><li><a href=\"/wiki/Monica_S._Lam\" title=\"Monica S. Lam\">Monica S. Lam</a></li>\n",
      "<li><a href=\"/wiki/Susan_Landau\" title=\"Susan Landau\">Susan Landau</a></li>\n",
      "<li><a href=\"/wiki/Amy_L._Lansky\" title=\"Amy L. Lansky\">Amy L. Lansky</a></li>\n",
      "<li><a href=\"/wiki/Corinna_E._Lathan\" title=\"Corinna E. Lathan\">Corinna E. Lathan</a></li>\n",
      "<li><a href=\"/wiki/Cynthia_B._Lee\" title=\"Cynthia B. Lee\">Cynthia B. Lee</a></li>\n",
      "<li><a href=\"/wiki/Sandy_Lerner\" title=\"Sandy Lerner\">Sandy Lerner</a></li>\n",
      "<li><a href=\"/wiki/Nancy_Leveson\" title=\"Nancy Leveson\">Nancy Leveson</a></li>\n",
      "<li><a href=\"/wiki/Jaime_Levy\" title=\"Jaime Levy\">Jaime Levy</a></li>\n",
      "<li><span class=\"redirect-in-category\"><a class=\"mw-redirect\" href=\"/wiki/Nancy_Lieder\" title=\"Nancy Lieder\">Nancy Lieder</a></span></li>\n",
      "<li><a href=\"/wiki/Katrina_Ligett\" title=\"Katrina Ligett\">Katrina Ligett</a></li>\n",
      "<li><a href=\"/wiki/Ming_C._Lin\" title=\"Ming C. Lin\">Ming C. Lin</a></li>\n",
      "<li><a href=\"/wiki/Barbara_Liskov\" title=\"Barbara Liskov\">Barbara Liskov</a></li>\n",
      "<li><a href=\"/wiki/Joyce_Currie_Little\" title=\"Joyce Currie Little\">Joyce Currie Little</a></li>\n",
      "<li><a href=\"/wiki/Kimber_Lockhart\" title=\"Kimber Lockhart\">Kimber Lockhart</a></li>\n",
      "<li><a href=\"/wiki/Patricia_D._Lopez\" title=\"Patricia D. Lopez\">Patricia D. Lopez</a></li>\n",
      "<li><a href=\"/wiki/Janice_Lourie\" title=\"Janice Lourie\">Janice Lourie</a></li>\n",
      "<li><a href=\"/wiki/Gillian_Lovegrove\" title=\"Gillian Lovegrove\">Gillian Lovegrove</a></li>\n",
<<<<<<< HEAD
      "<li><a href=\"/wiki/Nancy_Lynch\" title=\"Nancy Lynch\">Nancy Lynch</a></li>\n",
      "<li><a href=\"/wiki/Anna_Lysyanskaya\" title=\"Anna Lysyanskaya\">Anna Lysyanskaya</a></li></ul></div><div class=\"mw-category-group\"><h3>M</h3>\n",
=======
      "<li><a href=\"/wiki/Nancy_Lynch\" title=\"Nancy Lynch\">Nancy Lynch</a></li></ul></div><div class=\"mw-category-group\"><h3>M</h3>\n",
>>>>>>> cf7a50e66e041e500208cf202a10257971e26d7b
      "<ul><li><a href=\"/wiki/Wendy_Mackay\" title=\"Wendy Mackay\">Wendy Mackay</a></li>\n",
      "<li><a href=\"/wiki/Pattie_Maes\" title=\"Pattie Maes\">Pattie Maes</a></li>\n",
      "<li><a href=\"/wiki/Dahlia_Malkhi\" title=\"Dahlia Malkhi\">Dahlia Malkhi</a></li>\n",
      "<li><a href=\"/wiki/Jennifer_Mankoff\" title=\"Jennifer Mankoff\">Jennifer Mankoff</a></li>\n",
      "<li><a href=\"/wiki/Margaret_Marrs\" title=\"Margaret Marrs\">Margaret Marrs</a></li>\n",
      "<li><a href=\"/wiki/Brandeis_Marshall\" title=\"Brandeis Marshall\">Brandeis Marshall</a></li>\n",
      "<li><a href=\"/wiki/C._Dianne_Martin\" title=\"C. Dianne Martin\">C. Dianne Martin</a></li>\n",
      "<li><a href=\"/wiki/Margaret_Martonosi\" title=\"Margaret Martonosi\">Margaret Martonosi</a></li>\n",
      "<li><a href=\"/wiki/Alexia_Massalin\" title=\"Alexia Massalin\">Alexia Massalin</a></li>\n",
      "<li><a href=\"/wiki/Maja_Matari%C4%87\" title=\"Maja Matarić\">Maja Matarić</a></li>\n",
      "<li><a href=\"/wiki/Lori_McCreary\" title=\"Lori McCreary\">Lori McCreary</a></li>\n",
      "<li><a href=\"/wiki/Catherine_McGeoch\" title=\"Catherine McGeoch\">Catherine McGeoch</a></li>\n",
      "<li><a href=\"/wiki/Elaine_M._McGraw\" title=\"Elaine M. McGraw\">Elaine M. McGraw</a></li>\n",
      "<li><a href=\"/wiki/Kathleen_McKeown\" title=\"Kathleen McKeown\">Kathleen McKeown</a></li>\n",
      "<li><a href=\"/wiki/Kathryn_S._McKinley\" title=\"Kathryn S. McKinley\">Kathryn S. McKinley</a></li>\n",
      "<li><a href=\"/wiki/Diana_McSherry\" title=\"Diana McSherry\">Diana McSherry</a></li>\n",
      "<li><a href=\"/wiki/Marlyn_Meltzer\" title=\"Marlyn Meltzer\">Marlyn Meltzer</a></li>\n",
      "<li><a href=\"/wiki/Rebecca_Mercuri\" title=\"Rebecca Mercuri\">Rebecca Mercuri</a></li>\n",
      "<li><a href=\"/wiki/Jill_P._Mesirov\" title=\"Jill P. Mesirov\">Jill P. Mesirov</a></li>\n",
<<<<<<< HEAD
      "<li><a href=\"/wiki/Miriah_Meyer\" title=\"Miriah Meyer\">Miriah Meyer</a></li></ul></div></div>\n"
=======
      "<li><a href=\"/wiki/Miriah_Meyer\" title=\"Miriah Meyer\">Miriah Meyer</a></li>\n",
      "<li><a href=\"/wiki/Jude_Milhon\" title=\"Jude Milhon\">Jude Milhon</a></li></ul></div></div>\n"
>>>>>>> cf7a50e66e041e500208cf202a10257971e26d7b
     ]
    }
   ],
   "source": [
    "# parse the page through the BeautifulSoup library\n",
    "soup = BeautifulSoup(page_content, \"html.parser\")\n",
    "all_groupings = soup.find('div', class_='mw-category')\n",
    "print(all_groupings)"
   ]
  },
  {
   "cell_type": "code",
<<<<<<< HEAD
   "execution_count": 6,
=======
   "execution_count": 4,
>>>>>>> cf7a50e66e041e500208cf202a10257971e26d7b
   "metadata": {},
   "outputs": [
    {
     "data": {
      "text/plain": [
       "13"
      ]
     },
     "execution_count": 4,
     "metadata": {},
     "output_type": "execute_result"
    }
   ],
   "source": [
    "len(all_groupings)"
   ]
  },
  {
   "cell_type": "code",
   "execution_count": 5,
   "metadata": {},
   "outputs": [
    {
     "name": "stdout",
     "output_type": "stream",
     "text": [
      "<div class=\"mw-category-group\"><h3>A</h3>\n",
      "<ul><li><a href=\"/wiki/Janet_Abbate\" title=\"Janet Abbate\">Janet Abbate</a></li>\n",
      "<li><a href=\"/wiki/T%C3%BClay_Adal%C4%B1\" title=\"Tülay Adalı\">Tülay Adalı</a></li>\n",
      "<li><a href=\"/wiki/Sarita_Adve\" title=\"Sarita Adve\">Sarita Adve</a></li>\n",
      "<li><a href=\"/wiki/Frances_E._Allen\" title=\"Frances E. Allen\">Frances E. Allen</a></li>\n",
      "<li><a href=\"/wiki/Sarah_Allen_(software_developer)\" title=\"Sarah Allen (software developer)\">Sarah Allen (software developer)</a></li>\n",
      "<li><a href=\"/wiki/Nancy_M._Amato\" title=\"Nancy M. Amato\">Nancy M. Amato</a></li>\n",
      "<li><a href=\"/wiki/Nina_Amenta\" title=\"Nina Amenta\">Nina Amenta</a></li>\n",
      "<li><a href=\"/wiki/Dana_Angluin\" title=\"Dana Angluin\">Dana Angluin</a></li>\n",
      "<li><a href=\"/wiki/Lisa_Anthony\" title=\"Lisa Anthony\">Lisa Anthony</a></li>\n",
      "<li><a href=\"/wiki/Annie_Ant%C3%B3n\" title=\"Annie Antón\">Annie Antón</a></li>\n",
      "<li><a href=\"/wiki/Cecilia_R._Aragon\" title=\"Cecilia R. Aragon\">Cecilia R. Aragon</a></li>\n",
      "<li><a href=\"/wiki/Gillian_Arnold_(technologist)\" title=\"Gillian Arnold (technologist)\">Gillian Arnold (technologist)</a></li>\n",
      "<li><a href=\"/wiki/Winifred_Asprey\" title=\"Winifred Asprey\">Winifred Asprey</a></li>\n",
      "<li><a href=\"/wiki/Stella_Atkins\" title=\"Stella Atkins\">Stella Atkins</a></li>\n",
      "<li><a href=\"/wiki/Terri_Attwood\" title=\"Terri Attwood\">Terri Attwood</a></li>\n",
      "<li><a href=\"/wiki/Donna_Auguste\" title=\"Donna Auguste\">Donna Auguste</a></li>\n",
      "<li><a href=\"/wiki/Henriette_Avram\" title=\"Henriette Avram\">Henriette Avram</a></li></ul></div>\n"
     ]
    }
   ],
   "source": [
    "for grouping in all_groupings:\n",
    "    print(grouping)\n"
   ]
  },
  {
   "cell_type": "code",
   "execution_count": 6,
   "metadata": {},
   "outputs": [
    {
     "name": "stdout",
     "output_type": "stream",
     "text": [
      "<div class=\"mw-category-group\"><h3>A</h3>\n",
      "<ul><li><a href=\"/wiki/Janet_Abbate\" title=\"Janet Abbate\">Janet Abbate</a></li>\n",
      "<li><a href=\"/wiki/T%C3%BClay_Adal%C4%B1\" title=\"Tülay Adalı\">Tülay Adalı</a></li>\n",
      "<li><a href=\"/wiki/Sarita_Adve\" title=\"Sarita Adve\">Sarita Adve</a></li>\n",
      "<li><a href=\"/wiki/Frances_E._Allen\" title=\"Frances E. Allen\">Frances E. Allen</a></li>\n",
      "<li><a href=\"/wiki/Sarah_Allen_(software_developer)\" title=\"Sarah Allen (software developer)\">Sarah Allen (software developer)</a></li>\n",
      "<li><a href=\"/wiki/Nancy_M._Amato\" title=\"Nancy M. Amato\">Nancy M. Amato</a></li>\n",
      "<li><a href=\"/wiki/Nina_Amenta\" title=\"Nina Amenta\">Nina Amenta</a></li>\n",
      "<li><a href=\"/wiki/Dana_Angluin\" title=\"Dana Angluin\">Dana Angluin</a></li>\n",
      "<li><a href=\"/wiki/Lisa_Anthony\" title=\"Lisa Anthony\">Lisa Anthony</a></li>\n",
      "<li><a href=\"/wiki/Annie_Ant%C3%B3n\" title=\"Annie Antón\">Annie Antón</a></li>\n",
      "<li><a href=\"/wiki/Cecilia_R._Aragon\" title=\"Cecilia R. Aragon\">Cecilia R. Aragon</a></li>\n",
      "<li><a href=\"/wiki/Gillian_Arnold_(technologist)\" title=\"Gillian Arnold (technologist)\">Gillian Arnold (technologist)</a></li>\n",
      "<li><a href=\"/wiki/Winifred_Asprey\" title=\"Winifred Asprey\">Winifred Asprey</a></li>\n",
      "<li><a href=\"/wiki/Stella_Atkins\" title=\"Stella Atkins\">Stella Atkins</a></li>\n",
      "<li><a href=\"/wiki/Terri_Attwood\" title=\"Terri Attwood\">Terri Attwood</a></li>\n",
      "<li><a href=\"/wiki/Donna_Auguste\" title=\"Donna Auguste\">Donna Auguste</a></li>\n",
      "<li><a href=\"/wiki/Henriette_Avram\" title=\"Henriette Avram\">Henriette Avram</a></li></ul></div>\n"
     ]
    }
   ],
   "source": [
    "for grouping in all_groupings:\n",
    "    names_list = grouping.find('ul')\n",
    "    category = grouping.find('h3').get_text()\n",
    "    alphabetical_names = names_list.find_all('li')\n",
    "    print(grouping)\n",
    "    break"
   ]
  },
  {
   "cell_type": "code",
   "execution_count": 7,
   "metadata": {},
   "outputs": [],
   "source": [
    "# make an empty array for your data\n",
    "rows = []\n",
    "# loop through each grouping\n",
    "for grouping in all_groupings:\n",
    "    names_list = grouping.find('ul')\n",
    "    category = grouping.find('h3').get_text()\n",
    "    alphabetical_names = names_list.find_all('li')\n",
    "    for item in alphabetical_names:\n",
    "        # get the name\n",
    "        name  = item.text\n",
    "        # get the link\n",
    "        anchortag = item.find('a',href=True)\n",
    "        link = \"https://en.wikipedia.org\" + anchortag['href']\n",
    "        # get the letter\n",
    "        letter_name = category\n",
    "        # make a data dictionary that will be written into the csv\n",
    "        row = { 'name': name,\n",
    "                'link': link,\n",
    "                'letter_name': letter_name}\n",
    "        rows.append(row)"
   ]
  },
  {
   "cell_type": "code",
   "execution_count": 11,
   "metadata": {},
   "outputs": [
    {
     "name": "stdout",
     "output_type": "stream",
     "text": [
      "[{'name': 'Janet Abbate', 'link': 'https://en.wikipedia.org/wiki/Janet_Abbate', 'letter_name': 'A'}, {'name': 'Tülay Adalı', 'link': 'https://en.wikipedia.org/wiki/T%C3%BClay_Adal%C4%B1', 'letter_name': 'A'}, {'name': 'Sarita Adve', 'link': 'https://en.wikipedia.org/wiki/Sarita_Adve', 'letter_name': 'A'}, {'name': 'Frances E. Allen', 'link': 'https://en.wikipedia.org/wiki/Frances_E._Allen', 'letter_name': 'A'}, {'name': 'Sarah Allen (software developer)', 'link': 'https://en.wikipedia.org/wiki/Sarah_Allen_(software_developer)', 'letter_name': 'A'}, {'name': 'Nancy M. Amato', 'link': 'https://en.wikipedia.org/wiki/Nancy_M._Amato', 'letter_name': 'A'}, {'name': 'Nina Amenta', 'link': 'https://en.wikipedia.org/wiki/Nina_Amenta', 'letter_name': 'A'}, {'name': 'Dana Angluin', 'link': 'https://en.wikipedia.org/wiki/Dana_Angluin', 'letter_name': 'A'}, {'name': 'Lisa Anthony', 'link': 'https://en.wikipedia.org/wiki/Lisa_Anthony', 'letter_name': 'A'}, {'name': 'Annie Antón', 'link': 'https://en.wikipedia.org/wiki/Annie_Ant%C3%B3n', 'letter_name': 'A'}, {'name': 'Cecilia R. Aragon', 'link': 'https://en.wikipedia.org/wiki/Cecilia_R._Aragon', 'letter_name': 'A'}, {'name': 'Gillian Arnold (technologist)', 'link': 'https://en.wikipedia.org/wiki/Gillian_Arnold_(technologist)', 'letter_name': 'A'}, {'name': 'Winifred Asprey', 'link': 'https://en.wikipedia.org/wiki/Winifred_Asprey', 'letter_name': 'A'}, {'name': 'Stella Atkins', 'link': 'https://en.wikipedia.org/wiki/Stella_Atkins', 'letter_name': 'A'}, {'name': 'Terri Attwood', 'link': 'https://en.wikipedia.org/wiki/Terri_Attwood', 'letter_name': 'A'}, {'name': 'Donna Auguste', 'link': 'https://en.wikipedia.org/wiki/Donna_Auguste', 'letter_name': 'A'}, {'name': 'Henriette Avram', 'link': 'https://en.wikipedia.org/wiki/Henriette_Avram', 'letter_name': 'A'}, {'name': 'Rebecca Bace', 'link': 'https://en.wikipedia.org/wiki/Rebecca_Bace', 'letter_name': 'B'}, {'name': 'Ruzena Bajcsy', 'link': 'https://en.wikipedia.org/wiki/Ruzena_Bajcsy', 'letter_name': 'B'}, {'name': 'Brenda Baker', 'link': 'https://en.wikipedia.org/wiki/Brenda_Baker', 'letter_name': 'B'}, {'name': 'Valerie Barr', 'link': 'https://en.wikipedia.org/wiki/Valerie_Barr', 'letter_name': 'B'}, {'name': 'Jean Bartik', 'link': 'https://en.wikipedia.org/wiki/Jean_Bartik', 'letter_name': 'B'}, {'name': 'Regina Barzilay', 'link': 'https://en.wikipedia.org/wiki/Regina_Barzilay', 'letter_name': 'B'}, {'name': 'Evelyn Berezin', 'link': 'https://en.wikipedia.org/wiki/Evelyn_Berezin', 'letter_name': 'B'}, {'name': 'Bonnie Berger', 'link': 'https://en.wikipedia.org/wiki/Bonnie_Berger', 'letter_name': 'B'}, {'name': 'Marsha Berger', 'link': 'https://en.wikipedia.org/wiki/Marsha_Berger', 'letter_name': 'B'}, {'name': 'Francine Berman', 'link': 'https://en.wikipedia.org/wiki/Francine_Berman', 'letter_name': 'B'}, {'name': 'Danielle Bunten Berry', 'link': 'https://en.wikipedia.org/wiki/Danielle_Bunten_Berry', 'letter_name': 'B'}, {'name': 'Kim Binsted', 'link': 'https://en.wikipedia.org/wiki/Kim_Binsted', 'letter_name': 'B'}, {'name': 'Rachel Binx', 'link': 'https://en.wikipedia.org/wiki/Rachel_Binx', 'letter_name': 'B'}, {'name': 'Dorothy Blum', 'link': 'https://en.wikipedia.org/wiki/Dorothy_Blum', 'letter_name': 'B'}, {'name': 'Sharla Boehm', 'link': 'https://en.wikipedia.org/wiki/Sharla_Boehm', 'letter_name': 'B'}, {'name': 'Gloria Gordon Bolotsky', 'link': 'https://en.wikipedia.org/wiki/Gloria_Gordon_Bolotsky', 'letter_name': 'B'}, {'name': 'Paula Bonta', 'link': 'https://en.wikipedia.org/wiki/Paula_Bonta', 'letter_name': 'B'}, {'name': 'Anita Borg', 'link': 'https://en.wikipedia.org/wiki/Anita_Borg', 'letter_name': 'B'}, {'name': 'Lorraine Borman', 'link': 'https://en.wikipedia.org/wiki/Lorraine_Borman', 'letter_name': 'B'}, {'name': 'Carla Brodley', 'link': 'https://en.wikipedia.org/wiki/Carla_Brodley', 'letter_name': 'B'}, {'name': 'Maxine D. Brown', 'link': 'https://en.wikipedia.org/wiki/Maxine_D._Brown', 'letter_name': 'B'}, {'name': 'A. J. Bernheim Brush', 'link': 'https://en.wikipedia.org/wiki/A._J._Bernheim_Brush', 'letter_name': 'B'}, {'name': 'Joanna Bryson', 'link': 'https://en.wikipedia.org/wiki/Joanna_Bryson', 'letter_name': 'B'}, {'name': 'Joy Buolamwini', 'link': 'https://en.wikipedia.org/wiki/Joy_Buolamwini', 'letter_name': 'B'}, {'name': 'Margaret Burnett', 'link': 'https://en.wikipedia.org/wiki/Margaret_Burnett', 'letter_name': 'B'}, {'name': 'Margaret K. Butler', 'link': 'https://en.wikipedia.org/wiki/Margaret_K._Butler', 'letter_name': 'B'}, {'name': 'Sheeri Cabral', 'link': 'https://en.wikipedia.org/wiki/Sheeri_Cabral', 'letter_name': 'C'}, {'name': 'Tracy Camp', 'link': 'https://en.wikipedia.org/wiki/Tracy_Camp', 'letter_name': 'C'}, {'name': 'Shuchi Chawla', 'link': 'https://en.wikipedia.org/wiki/Shuchi_Chawla', 'letter_name': 'C'}, {'name': 'Jennifer Tour Chayes', 'link': 'https://en.wikipedia.org/wiki/Jennifer_Tour_Chayes', 'letter_name': 'C'}, {'name': 'Lorinda Cherry', 'link': 'https://en.wikipedia.org/wiki/Lorinda_Cherry', 'letter_name': 'C'}, {'name': 'Judy Clapp', 'link': 'https://en.wikipedia.org/wiki/Judy_Clapp', 'letter_name': 'C'}, {'name': 'Lori A. Clarke', 'link': 'https://en.wikipedia.org/wiki/Lori_A._Clarke', 'letter_name': 'C'}, {'name': 'Joanne M. Cohoon', 'link': 'https://en.wikipedia.org/wiki/Joanne_M._Cohoon', 'letter_name': 'C'}, {'name': 'Lynn Conway', 'link': 'https://en.wikipedia.org/wiki/Lynn_Conway', 'letter_name': 'C'}, {'name': 'Danese Cooper', 'link': 'https://en.wikipedia.org/wiki/Danese_Cooper', 'letter_name': 'C'}, {'name': 'Corinna Cortes', 'link': 'https://en.wikipedia.org/wiki/Corinna_Cortes', 'letter_name': 'C'}, {'name': 'Radhia Cousot', 'link': 'https://en.wikipedia.org/wiki/Radhia_Cousot', 'letter_name': 'C'}, {'name': 'Kate Craig-Wood', 'link': 'https://en.wikipedia.org/wiki/Kate_Craig-Wood', 'letter_name': 'C'}, {'name': 'Marian Croak', 'link': 'https://en.wikipedia.org/wiki/Marian_Croak', 'letter_name': 'C'}, {'name': 'Carolina Cruz-Neira', 'link': 'https://en.wikipedia.org/wiki/Carolina_Cruz-Neira', 'letter_name': 'C'}, {'name': 'Leah Culver', 'link': 'https://en.wikipedia.org/wiki/Leah_Culver', 'letter_name': 'C'}, {'name': 'Janice E. Cuny', 'link': 'https://en.wikipedia.org/wiki/Janice_E._Cuny', 'letter_name': 'C'}, {'name': 'Mary Czerwinski', 'link': 'https://en.wikipedia.org/wiki/Mary_Czerwinski', 'letter_name': 'C'}, {'name': 'Weili Dai', 'link': 'https://en.wikipedia.org/wiki/Weili_Dai', 'letter_name': 'D'}, {'name': 'Nell B. Dale', 'link': 'https://en.wikipedia.org/wiki/Nell_B._Dale', 'letter_name': 'D'}, {'name': 'Frederica Darema', 'link': 'https://en.wikipedia.org/wiki/Frederica_Darema', 'letter_name': 'D'}, {'name': 'Margaret Oakley Dayhoff', 'link': 'https://en.wikipedia.org/wiki/Margaret_Oakley_Dayhoff', 'letter_name': 'D'}, {'name': 'Ruth Dayhoff', 'link': 'https://en.wikipedia.org/wiki/Ruth_Dayhoff', 'letter_name': 'D'}, {'name': 'Rina Dechter', 'link': 'https://en.wikipedia.org/wiki/Rina_Dechter', 'letter_name': 'D'}, {'name': 'Gladys del Estal', 'link': 'https://en.wikipedia.org/wiki/Gladys_del_Estal', 'letter_name': 'D'}, {'name': 'Dorothy E. Denning', 'link': 'https://en.wikipedia.org/wiki/Dorothy_E._Denning', 'letter_name': 'D'}, {'name': 'Marie desJardins', 'link': 'https://en.wikipedia.org/wiki/Marie_desJardins', 'letter_name': 'D'}, {'name': 'Rose Dieng-Kuntz', 'link': 'https://en.wikipedia.org/wiki/Rose_Dieng-Kuntz', 'letter_name': 'D'}, {'name': 'Judith Donath', 'link': 'https://en.wikipedia.org/wiki/Judith_Donath', 'letter_name': 'D'}, {'name': 'Sarah Ann Douglas', 'link': 'https://en.wikipedia.org/wiki/Sarah_Ann_Douglas', 'letter_name': 'D'}, {'name': 'Susan Dumais', 'link': 'https://en.wikipedia.org/wiki/Susan_Dumais', 'letter_name': 'D'}, {'name': 'Cynthia Dwork', 'link': 'https://en.wikipedia.org/wiki/Cynthia_Dwork', 'letter_name': 'D'}, {'name': 'Annie Easley', 'link': 'https://en.wikipedia.org/wiki/Annie_Easley', 'letter_name': 'E'}, {'name': 'Susan J. Eggers', 'link': 'https://en.wikipedia.org/wiki/Susan_J._Eggers', 'letter_name': 'E'}, {'name': 'Susan Eisenbach', 'link': 'https://en.wikipedia.org/wiki/Susan_Eisenbach', 'letter_name': 'E'}, {'name': 'Elaine Cohen', 'link': 'https://en.wikipedia.org/wiki/Elaine_Cohen', 'letter_name': 'E'}, {'name': 'Alexandra Elbakyan', 'link': 'https://en.wikipedia.org/wiki/Alexandra_Elbakyan', 'letter_name': 'E'}, {'name': 'Carla Ellis', 'link': 'https://en.wikipedia.org/wiki/Carla_Ellis', 'letter_name': 'E'}, {'name': 'Elza Erkip', 'link': 'https://en.wikipedia.org/wiki/Elza_Erkip', 'letter_name': 'E'}, {'name': 'Deborah Estrin', 'link': 'https://en.wikipedia.org/wiki/Deborah_Estrin', 'letter_name': 'E'}, {'name': 'Thelma Estrin', 'link': 'https://en.wikipedia.org/wiki/Thelma_Estrin', 'letter_name': 'E'}, {'name': 'Joan Feigenbaum', 'link': 'https://en.wikipedia.org/wiki/Joan_Feigenbaum', 'letter_name': 'F'}, {'name': 'Danielle Feinberg', 'link': 'https://en.wikipedia.org/wiki/Danielle_Feinberg', 'letter_name': 'F'}, {'name': 'Anja Feldmann', 'link': 'https://en.wikipedia.org/wiki/Anja_Feldmann', 'letter_name': 'F'}, {'name': 'Mary Fernández', 'link': 'https://en.wikipedia.org/wiki/Mary_Fern%C3%A1ndez', 'letter_name': 'F'}, {'name': 'Jeanne Ferrante', 'link': 'https://en.wikipedia.org/wiki/Jeanne_Ferrante', 'letter_name': 'F'}, {'name': 'Kathleen Fisher', 'link': 'https://en.wikipedia.org/wiki/Kathleen_Fisher', 'letter_name': 'F'}, {'name': 'Sally Floyd', 'link': 'https://en.wikipedia.org/wiki/Sally_Floyd', 'letter_name': 'F'}, {'name': 'Stephanie Forrest', 'link': 'https://en.wikipedia.org/wiki/Stephanie_Forrest', 'letter_name': 'F'}, {'name': 'Alexandra Illmer Forsythe', 'link': 'https://en.wikipedia.org/wiki/Alexandra_Illmer_Forsythe', 'letter_name': 'F'}, {'name': 'Margaret R. Fox', 'link': 'https://en.wikipedia.org/wiki/Margaret_R._Fox', 'letter_name': 'F'}, {'name': 'Phyllis Fox', 'link': 'https://en.wikipedia.org/wiki/Phyllis_Fox', 'letter_name': 'F'}, {'name': 'Jessica Fridrich', 'link': 'https://en.wikipedia.org/wiki/Jessica_Fridrich', 'letter_name': 'F'}, {'name': 'Ping Fu', 'link': 'https://en.wikipedia.org/wiki/Ping_Fu', 'letter_name': 'F'}, {'name': 'Susan Gerhart', 'link': 'https://en.wikipedia.org/wiki/Susan_Gerhart', 'letter_name': 'G'}, {'name': 'Lise Getoor', 'link': 'https://en.wikipedia.org/wiki/Lise_Getoor', 'letter_name': 'G'}, {'name': 'Yolanda Gil', 'link': 'https://en.wikipedia.org/wiki/Yolanda_Gil', 'letter_name': 'G'}, {'name': 'Anna C. Gilbert', 'link': 'https://en.wikipedia.org/wiki/Anna_C._Gilbert', 'letter_name': 'G'}, {'name': 'Carole Goble', 'link': 'https://en.wikipedia.org/wiki/Carole_Goble', 'letter_name': 'G'}, {'name': 'Jen Golbeck', 'link': 'https://en.wikipedia.org/wiki/Jen_Golbeck', 'letter_name': 'G'}, {'name': 'Adele Goldberg (computer scientist)', 'link': 'https://en.wikipedia.org/wiki/Adele_Goldberg_(computer_scientist)', 'letter_name': 'G'}, {'name': 'Andrea Goldsmith (engineer)', 'link': 'https://en.wikipedia.org/wiki/Andrea_Goldsmith_(engineer)', 'letter_name': 'G'}, {'name': 'Adele Goldstine', 'link': 'https://en.wikipedia.org/wiki/Adele_Goldstine', 'letter_name': 'G'}, {'name': 'Amy Ashurst Gooch', 'link': 'https://en.wikipedia.org/wiki/Amy_Ashurst_Gooch', 'letter_name': 'G'}, {'name': 'Sarah Gordon', 'link': 'https://en.wikipedia.org/wiki/Sarah_Gordon', 'letter_name': 'G'}, {'name': 'Susan L. Graham', 'link': 'https://en.wikipedia.org/wiki/Susan_L._Graham', 'letter_name': 'G'}, {'name': 'Evelyn Boyd Granville', 'link': 'https://en.wikipedia.org/wiki/Evelyn_Boyd_Granville', 'letter_name': 'G'}, {'name': 'Kristen Grauman', 'link': 'https://en.wikipedia.org/wiki/Kristen_Grauman', 'letter_name': 'G'}, {'name': 'Diane Greene', 'link': 'https://en.wikipedia.org/wiki/Diane_Greene', 'letter_name': 'G'}, {'name': 'Sheila Greibach', 'link': 'https://en.wikipedia.org/wiki/Sheila_Greibach', 'letter_name': 'G'}, {'name': 'Irene Greif', 'link': 'https://en.wikipedia.org/wiki/Irene_Greif', 'letter_name': 'G'}, {'name': 'Nancy Davis Griffeth', 'link': 'https://en.wikipedia.org/wiki/Nancy_Davis_Griffeth', 'letter_name': 'G'}, {'name': 'Laura M. Haas', 'link': 'https://en.wikipedia.org/wiki/Laura_M._Haas', 'letter_name': 'H'}, {'name': 'Lois Haibt', 'link': 'https://en.wikipedia.org/wiki/Lois_Haibt', 'letter_name': 'H'}, {'name': 'Ashawna Hailey', 'link': 'https://en.wikipedia.org/wiki/Ashawna_Hailey', 'letter_name': 'H'}, {'name': 'Margaret Hamilton (scientist)', 'link': 'https://en.wikipedia.org/wiki/Margaret_Hamilton_(scientist)', 'letter_name': 'H'}, {'name': 'Jessica Hammer', 'link': 'https://en.wikipedia.org/wiki/Jessica_Hammer', 'letter_name': 'H'}, {'name': 'Vicki L. Hanson', 'link': 'https://en.wikipedia.org/wiki/Vicki_L._Hanson', 'letter_name': 'H'}, {'name': 'Mor Harchol-Balter', 'link': 'https://en.wikipedia.org/wiki/Mor_Harchol-Balter', 'letter_name': 'H'}, {'name': 'Mary Jean Harrold', 'link': 'https://en.wikipedia.org/wiki/Mary_Jean_Harrold', 'letter_name': 'H'}, {'name': 'Tanzima Hashem', 'link': 'https://en.wikipedia.org/wiki/Tanzima_Hashem', 'letter_name': 'H'}, {'name': 'Mary K. Hawes', 'link': 'https://en.wikipedia.org/wiki/Mary_K._Hawes', 'letter_name': 'H'}, {'name': 'Marti Hearst', 'link': 'https://en.wikipedia.org/wiki/Marti_Hearst', 'letter_name': 'H'}, {'name': 'Laurie Hendren', 'link': 'https://en.wikipedia.org/wiki/Laurie_Hendren', 'letter_name': 'H'}, {'name': 'Nadia Heninger', 'link': 'https://en.wikipedia.org/wiki/Nadia_Heninger', 'letter_name': 'H'}, {'name': 'Starr Roxanne Hiltz', 'link': 'https://en.wikipedia.org/wiki/Starr_Roxanne_Hiltz', 'letter_name': 'H'}, {'name': 'Julia Hirschberg', 'link': 'https://en.wikipedia.org/wiki/Julia_Hirschberg', 'letter_name': 'H'}, {'name': 'Thea D. Hodge', 'link': 'https://en.wikipedia.org/wiki/Thea_D._Hodge', 'letter_name': 'H'}, {'name': 'Jessica Hodgins', 'link': 'https://en.wikipedia.org/wiki/Jessica_Hodgins', 'letter_name': 'H'}, {'name': 'Betty Holberton', 'link': 'https://en.wikipedia.org/wiki/Betty_Holberton', 'letter_name': 'H'}, {'name': 'Karen Holtzblatt', 'link': 'https://en.wikipedia.org/wiki/Karen_Holtzblatt', 'letter_name': 'H'}, {'name': 'Molly Holzschlag', 'link': 'https://en.wikipedia.org/wiki/Molly_Holzschlag', 'letter_name': 'H'}, {'name': 'Grace Hopper', 'link': 'https://en.wikipedia.org/wiki/Grace_Hopper', 'letter_name': 'H'}, {'name': 'Susan B. Horwitz', 'link': 'https://en.wikipedia.org/wiki/Susan_B._Horwitz', 'letter_name': 'H'}, {'name': 'Ayanna Howard', 'link': 'https://en.wikipedia.org/wiki/Ayanna_Howard', 'letter_name': 'H'}, {'name': 'Sandra Hutchins', 'link': 'https://en.wikipedia.org/wiki/Sandra_Hutchins', 'letter_name': 'H'}, {'name': 'Lila Ibrahim', 'link': 'https://en.wikipedia.org/wiki/Lila_Ibrahim', 'letter_name': 'I'}, {'name': 'Mary Jane Irwin', 'link': 'https://en.wikipedia.org/wiki/Mary_Jane_Irwin', 'letter_name': 'I'}, {'name': 'Divya Jain', 'link': 'https://en.wikipedia.org/wiki/Divya_Jain', 'letter_name': 'J'}, {'name': 'Leah Jamieson', 'link': 'https://en.wikipedia.org/wiki/Leah_Jamieson', 'letter_name': 'J'}, {'name': 'Katherine Johnson', 'link': 'https://en.wikipedia.org/wiki/Katherine_Johnson', 'letter_name': 'J'}, {'name': 'Lynne Jolitz', 'link': 'https://en.wikipedia.org/wiki/Lynne_Jolitz', 'letter_name': 'J'}, {'name': 'Anita K. Jones', 'link': 'https://en.wikipedia.org/wiki/Anita_K._Jones', 'letter_name': 'J'}, {'name': 'Nataša Jonoska', 'link': 'https://en.wikipedia.org/wiki/Nata%C5%A1a_Jonoska', 'letter_name': 'J'}, {'name': 'Leslie P. Kaelbling', 'link': 'https://en.wikipedia.org/wiki/Leslie_P._Kaelbling', 'letter_name': 'K'}, {'name': 'Yael Tauman Kalai', 'link': 'https://en.wikipedia.org/wiki/Yael_Tauman_Kalai', 'letter_name': 'K'}, {'name': 'Anna Karlin', 'link': 'https://en.wikipedia.org/wiki/Anna_Karlin', 'letter_name': 'K'}, {'name': 'Lydia Kavraki', 'link': 'https://en.wikipedia.org/wiki/Lydia_Kavraki', 'letter_name': 'K'}, {'name': 'Mary Kenneth Keller', 'link': 'https://en.wikipedia.org/wiki/Mary_Kenneth_Keller', 'letter_name': 'K'}, {'name': 'Wendy Kellogg', 'link': 'https://en.wikipedia.org/wiki/Wendy_Kellogg', 'letter_name': 'K'}, {'name': 'Martine Kempf', 'link': 'https://en.wikipedia.org/wiki/Martine_Kempf', 'letter_name': 'K'}, {'name': 'Kim Rees', 'link': 'https://en.wikipedia.org/wiki/Kim_Rees', 'letter_name': 'K'}, {'name': 'Maria Klawe', 'link': 'https://en.wikipedia.org/wiki/Maria_Klawe', 'letter_name': 'K'}, {'name': 'Tamara G. Kolda', 'link': 'https://en.wikipedia.org/wiki/Tamara_G._Kolda', 'letter_name': 'K'}, {'name': 'Daphne Koller', 'link': 'https://en.wikipedia.org/wiki/Daphne_Koller', 'letter_name': 'K'}, {'name': 'Janet L. Kolodner', 'link': 'https://en.wikipedia.org/wiki/Janet_L._Kolodner', 'letter_name': 'K'}, {'name': 'Jana Košecká', 'link': 'https://en.wikipedia.org/wiki/Jana_Ko%C5%A1eck%C3%A1', 'letter_name': 'K'}, {'name': 'Věra Kůrková', 'link': 'https://en.wikipedia.org/wiki/V%C4%9Bra_K%C5%AFrkov%C3%A1', 'letter_name': 'K'}, {'name': 'Monica S. Lam', 'link': 'https://en.wikipedia.org/wiki/Monica_S._Lam', 'letter_name': 'L'}, {'name': 'Susan Landau', 'link': 'https://en.wikipedia.org/wiki/Susan_Landau', 'letter_name': 'L'}, {'name': 'Amy L. Lansky', 'link': 'https://en.wikipedia.org/wiki/Amy_L._Lansky', 'letter_name': 'L'}, {'name': 'Corinna E. Lathan', 'link': 'https://en.wikipedia.org/wiki/Corinna_E._Lathan', 'letter_name': 'L'}, {'name': 'Cynthia B. Lee', 'link': 'https://en.wikipedia.org/wiki/Cynthia_B._Lee', 'letter_name': 'L'}, {'name': 'Sandy Lerner', 'link': 'https://en.wikipedia.org/wiki/Sandy_Lerner', 'letter_name': 'L'}, {'name': 'Nancy Leveson', 'link': 'https://en.wikipedia.org/wiki/Nancy_Leveson', 'letter_name': 'L'}, {'name': 'Jaime Levy', 'link': 'https://en.wikipedia.org/wiki/Jaime_Levy', 'letter_name': 'L'}, {'name': 'Nancy Lieder', 'link': 'https://en.wikipedia.org/wiki/Nancy_Lieder', 'letter_name': 'L'}, {'name': 'Katrina Ligett', 'link': 'https://en.wikipedia.org/wiki/Katrina_Ligett', 'letter_name': 'L'}, {'name': 'Ming C. Lin', 'link': 'https://en.wikipedia.org/wiki/Ming_C._Lin', 'letter_name': 'L'}, {'name': 'Barbara Liskov', 'link': 'https://en.wikipedia.org/wiki/Barbara_Liskov', 'letter_name': 'L'}, {'name': 'Joyce Currie Little', 'link': 'https://en.wikipedia.org/wiki/Joyce_Currie_Little', 'letter_name': 'L'}, {'name': 'Kimber Lockhart', 'link': 'https://en.wikipedia.org/wiki/Kimber_Lockhart', 'letter_name': 'L'}, {'name': 'Patricia D. Lopez', 'link': 'https://en.wikipedia.org/wiki/Patricia_D._Lopez', 'letter_name': 'L'}, {'name': 'Janice Lourie', 'link': 'https://en.wikipedia.org/wiki/Janice_Lourie', 'letter_name': 'L'}, {'name': 'Gillian Lovegrove', 'link': 'https://en.wikipedia.org/wiki/Gillian_Lovegrove', 'letter_name': 'L'}, {'name': 'Nancy Lynch', 'link': 'https://en.wikipedia.org/wiki/Nancy_Lynch', 'letter_name': 'L'}, {'name': 'Anna Lysyanskaya', 'link': 'https://en.wikipedia.org/wiki/Anna_Lysyanskaya', 'letter_name': 'L'}, {'name': 'Wendy Mackay', 'link': 'https://en.wikipedia.org/wiki/Wendy_Mackay', 'letter_name': 'M'}, {'name': 'Pattie Maes', 'link': 'https://en.wikipedia.org/wiki/Pattie_Maes', 'letter_name': 'M'}, {'name': 'Dahlia Malkhi', 'link': 'https://en.wikipedia.org/wiki/Dahlia_Malkhi', 'letter_name': 'M'}, {'name': 'Jennifer Mankoff', 'link': 'https://en.wikipedia.org/wiki/Jennifer_Mankoff', 'letter_name': 'M'}, {'name': 'Margaret Marrs', 'link': 'https://en.wikipedia.org/wiki/Margaret_Marrs', 'letter_name': 'M'}, {'name': 'Brandeis Marshall', 'link': 'https://en.wikipedia.org/wiki/Brandeis_Marshall', 'letter_name': 'M'}, {'name': 'C. Dianne Martin', 'link': 'https://en.wikipedia.org/wiki/C._Dianne_Martin', 'letter_name': 'M'}, {'name': 'Margaret Martonosi', 'link': 'https://en.wikipedia.org/wiki/Margaret_Martonosi', 'letter_name': 'M'}, {'name': 'Alexia Massalin', 'link': 'https://en.wikipedia.org/wiki/Alexia_Massalin', 'letter_name': 'M'}, {'name': 'Maja Matarić', 'link': 'https://en.wikipedia.org/wiki/Maja_Matari%C4%87', 'letter_name': 'M'}, {'name': 'Lori McCreary', 'link': 'https://en.wikipedia.org/wiki/Lori_McCreary', 'letter_name': 'M'}, {'name': 'Catherine McGeoch', 'link': 'https://en.wikipedia.org/wiki/Catherine_McGeoch', 'letter_name': 'M'}, {'name': 'Elaine M. McGraw', 'link': 'https://en.wikipedia.org/wiki/Elaine_M._McGraw', 'letter_name': 'M'}, {'name': 'Kathleen McKeown', 'link': 'https://en.wikipedia.org/wiki/Kathleen_McKeown', 'letter_name': 'M'}, {'name': 'Kathryn S. McKinley', 'link': 'https://en.wikipedia.org/wiki/Kathryn_S._McKinley', 'letter_name': 'M'}, {'name': 'Diana McSherry', 'link': 'https://en.wikipedia.org/wiki/Diana_McSherry', 'letter_name': 'M'}, {'name': 'Marlyn Meltzer', 'link': 'https://en.wikipedia.org/wiki/Marlyn_Meltzer', 'letter_name': 'M'}, {'name': 'Rebecca Mercuri', 'link': 'https://en.wikipedia.org/wiki/Rebecca_Mercuri', 'letter_name': 'M'}, {'name': 'Jill P. Mesirov', 'link': 'https://en.wikipedia.org/wiki/Jill_P._Mesirov', 'letter_name': 'M'}, {'name': 'Miriah Meyer', 'link': 'https://en.wikipedia.org/wiki/Miriah_Meyer', 'letter_name': 'M'}]\n"
     ]
    }
   ],
   "source": [
    "print(rows)"
   ]
  },
  {
   "cell_type": "code",
   "execution_count": 12,
   "metadata": {},
   "outputs": [],
   "source": [
    "# make a new csv into which we will write all the rows\n",
    "with open('../output/all-women-computer-scientists.csv', 'w+') as csvfile:\n",
    "    # these are the header names:\n",
    "    fieldnames = ['name', 'link', 'letter_name']\n",
    "    # this creates your csv\n",
    "    writer = csv.DictWriter(csvfile, fieldnames=fieldnames)\n",
    "    # this writes in the first row, which are the headers\n",
    "    writer.writeheader()\n",
    "\n",
    "    # this loops through your rows (the array you set at the beginning and have updated throughtout)\n",
    "    for row in rows:\n",
    "        # this takes each row and writes it into your csv\n",
    "        writer.writerow(row)\n"
   ]
  },
  {
   "cell_type": "code",
   "execution_count": null,
   "metadata": {},
   "outputs": [],
   "source": []
  }
 ],
 "metadata": {
  "kernelspec": {
   "display_name": "Python 3",
   "language": "python",
   "name": "python3"
  },
  "language_info": {
   "codemirror_mode": {
    "name": "ipython",
    "version": 3
   },
   "file_extension": ".py",
   "mimetype": "text/x-python",
   "name": "python",
   "nbconvert_exporter": "python",
   "pygments_lexer": "ipython3",
   "version": "3.6.3"
  }
 },
 "nbformat": 4,
 "nbformat_minor": 2
}
