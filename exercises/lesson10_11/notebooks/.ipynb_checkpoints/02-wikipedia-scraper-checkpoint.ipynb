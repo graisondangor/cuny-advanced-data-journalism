{
 "cells": [
  {
   "cell_type": "code",
   "execution_count": 1,
   "metadata": {},
   "outputs": [],
   "source": [
    "#Import our modules or packages that we will need to scrape a website\n",
    "from bs4 import BeautifulSoup\n",
    "import requests\n"
   ]
  },
  {
   "cell_type": "code",
   "execution_count": 2,
   "metadata": {},
   "outputs": [],
   "source": [
    "# make an empty array for your data\n",
    "rows = []\n",
    "\n",
    "# open the web site\n",
    "url = \"https://en.wikipedia.org/wiki/Category:Women_computer_scientists\"\n",
    "page = requests.get(url)\n",
    "page_content = page.content"
   ]
  },
  {
   "cell_type": "code",
   "execution_count": 3,
   "metadata": {},
   "outputs": [
    {
     "name": "stdout",
     "output_type": "stream",
     "text": [
      "<div class=\"mw-category-group\"><h3>A</h3>\n",
      "<ul><li><a href=\"/wiki/Janet_Abbate\" title=\"Janet Abbate\">Janet Abbate</a></li>\n",
      "<li><a href=\"/wiki/T%C3%BClay_Adal%C4%B1\" title=\"Tülay Adalı\">Tülay Adalı</a></li>\n",
      "<li><a href=\"/wiki/Sarita_Adve\" title=\"Sarita Adve\">Sarita Adve</a></li>\n",
      "<li><a href=\"/wiki/Frances_E._Allen\" title=\"Frances E. Allen\">Frances E. Allen</a></li>\n",
      "<li><a href=\"/wiki/Sarah_Allen_(software_developer)\" title=\"Sarah Allen (software developer)\">Sarah Allen (software developer)</a></li>\n",
      "<li><a href=\"/wiki/Nancy_M._Amato\" title=\"Nancy M. Amato\">Nancy M. Amato</a></li>\n",
      "<li><a href=\"/wiki/Nina_Amenta\" title=\"Nina Amenta\">Nina Amenta</a></li>\n",
      "<li><a href=\"/wiki/Dana_Angluin\" title=\"Dana Angluin\">Dana Angluin</a></li>\n",
      "<li><a href=\"/wiki/Lisa_Anthony\" title=\"Lisa Anthony\">Lisa Anthony</a></li>\n",
      "<li><a href=\"/wiki/Annie_Ant%C3%B3n\" title=\"Annie Antón\">Annie Antón</a></li>\n",
      "<li><a href=\"/wiki/Cecilia_R._Aragon\" title=\"Cecilia R. Aragon\">Cecilia R. Aragon</a></li>\n",
      "<li><a href=\"/wiki/Gillian_Arnold_(technologist)\" title=\"Gillian Arnold (technologist)\">Gillian Arnold (technologist)</a></li>\n",
      "<li><a href=\"/wiki/Winifred_Asprey\" title=\"Winifred Asprey\">Winifred Asprey</a></li>\n",
      "<li><a href=\"/wiki/Stella_Atkins\" title=\"Stella Atkins\">Stella Atkins</a></li>\n",
      "<li><a href=\"/wiki/Terri_Attwood\" title=\"Terri Attwood\">Terri Attwood</a></li>\n",
      "<li><a href=\"/wiki/Donna_Auguste\" title=\"Donna Auguste\">Donna Auguste</a></li>\n",
      "<li><a href=\"/wiki/Henriette_Avram\" title=\"Henriette Avram\">Henriette Avram</a></li></ul></div>\n"
     ]
    }
   ],
   "source": [
    "# parse the page through the BeautifulSoup library\n",
    "soup = BeautifulSoup(page_content, \"html.parser\")\n",
    "all_groupings = soup.find('div', class_='mw-category')\n",
    "print(all_groupings)"
   ]
  },
  {
   "cell_type": "code",
   "execution_count": 6,
   "metadata": {},
   "outputs": [
    {
     "data": {
      "text/plain": [
       "3"
      ]
     },
     "execution_count": 6,
     "metadata": {},
     "output_type": "execute_result"
    }
   ],
   "source": [
    "len(all_groupings)"
   ]
  },
  {
   "cell_type": "code",
   "execution_count": 4,
   "metadata": {},
   "outputs": [
    {
     "name": "stdout",
     "output_type": "stream",
     "text": [
      "<h3>A</h3>\n",
      "\n",
      "\n",
      "<ul><li><a href=\"/wiki/Janet_Abbate\" title=\"Janet Abbate\">Janet Abbate</a></li>\n",
      "<li><a href=\"/wiki/T%C3%BClay_Adal%C4%B1\" title=\"Tülay Adalı\">Tülay Adalı</a></li>\n",
      "<li><a href=\"/wiki/Sarita_Adve\" title=\"Sarita Adve\">Sarita Adve</a></li>\n",
      "<li><a href=\"/wiki/Frances_E._Allen\" title=\"Frances E. Allen\">Frances E. Allen</a></li>\n",
      "<li><a href=\"/wiki/Sarah_Allen_(software_developer)\" title=\"Sarah Allen (software developer)\">Sarah Allen (software developer)</a></li>\n",
      "<li><a href=\"/wiki/Nancy_M._Amato\" title=\"Nancy M. Amato\">Nancy M. Amato</a></li>\n",
      "<li><a href=\"/wiki/Nina_Amenta\" title=\"Nina Amenta\">Nina Amenta</a></li>\n",
      "<li><a href=\"/wiki/Dana_Angluin\" title=\"Dana Angluin\">Dana Angluin</a></li>\n",
      "<li><a href=\"/wiki/Lisa_Anthony\" title=\"Lisa Anthony\">Lisa Anthony</a></li>\n",
      "<li><a href=\"/wiki/Annie_Ant%C3%B3n\" title=\"Annie Antón\">Annie Antón</a></li>\n",
      "<li><a href=\"/wiki/Cecilia_R._Aragon\" title=\"Cecilia R. Aragon\">Cecilia R. Aragon</a></li>\n",
      "<li><a href=\"/wiki/Gillian_Arnold_(technologist)\" title=\"Gillian Arnold (technologist)\">Gillian Arnold (technologist)</a></li>\n",
      "<li><a href=\"/wiki/Winifred_Asprey\" title=\"Winifred Asprey\">Winifred Asprey</a></li>\n",
      "<li><a href=\"/wiki/Stella_Atkins\" title=\"Stella Atkins\">Stella Atkins</a></li>\n",
      "<li><a href=\"/wiki/Terri_Attwood\" title=\"Terri Attwood\">Terri Attwood</a></li>\n",
      "<li><a href=\"/wiki/Donna_Auguste\" title=\"Donna Auguste\">Donna Auguste</a></li>\n",
      "<li><a href=\"/wiki/Henriette_Avram\" title=\"Henriette Avram\">Henriette Avram</a></li></ul>\n"
     ]
    }
   ],
   "source": [
    "for grouping in all_groupings:\n",
    "    print(grouping)\n"
   ]
  },
  {
   "cell_type": "code",
   "execution_count": 5,
   "metadata": {},
   "outputs": [
    {
     "ename": "AttributeError",
     "evalue": "'NoneType' object has no attribute 'get_text'",
     "output_type": "error",
     "traceback": [
      "\u001b[0;31m---------------------------------------------------------------------------\u001b[0m",
      "\u001b[0;31mAttributeError\u001b[0m                            Traceback (most recent call last)",
      "\u001b[0;32m<ipython-input-5-5222253118fa>\u001b[0m in \u001b[0;36m<module>\u001b[0;34m\u001b[0m\n\u001b[1;32m      1\u001b[0m \u001b[0;32mfor\u001b[0m \u001b[0mgrouping\u001b[0m \u001b[0;32min\u001b[0m \u001b[0mall_groupings\u001b[0m\u001b[0;34m:\u001b[0m\u001b[0;34m\u001b[0m\u001b[0m\n\u001b[1;32m      2\u001b[0m     \u001b[0mnames_list\u001b[0m \u001b[0;34m=\u001b[0m \u001b[0mgrouping\u001b[0m\u001b[0;34m.\u001b[0m\u001b[0mfind\u001b[0m\u001b[0;34m(\u001b[0m\u001b[0;34m'ul'\u001b[0m\u001b[0;34m)\u001b[0m\u001b[0;34m\u001b[0m\u001b[0m\n\u001b[0;32m----> 3\u001b[0;31m     \u001b[0mcategory\u001b[0m \u001b[0;34m=\u001b[0m \u001b[0mgrouping\u001b[0m\u001b[0;34m.\u001b[0m\u001b[0mfind\u001b[0m\u001b[0;34m(\u001b[0m\u001b[0;34m'h3'\u001b[0m\u001b[0;34m)\u001b[0m\u001b[0;34m.\u001b[0m\u001b[0mget_text\u001b[0m\u001b[0;34m(\u001b[0m\u001b[0;34m)\u001b[0m\u001b[0;34m\u001b[0m\u001b[0m\n\u001b[0m\u001b[1;32m      4\u001b[0m     \u001b[0malphabetical_names\u001b[0m \u001b[0;34m=\u001b[0m \u001b[0mnames_list\u001b[0m\u001b[0;34m.\u001b[0m\u001b[0mfind_all\u001b[0m\u001b[0;34m(\u001b[0m\u001b[0;34m'li'\u001b[0m\u001b[0;34m)\u001b[0m\u001b[0;34m\u001b[0m\u001b[0m\n\u001b[1;32m      5\u001b[0m     \u001b[0mprint\u001b[0m\u001b[0;34m(\u001b[0m\u001b[0mnames_list\u001b[0m\u001b[0;34m,\u001b[0m \u001b[0mcategory\u001b[0m\u001b[0;34m,\u001b[0m \u001b[0malphabetical_names\u001b[0m\u001b[0;34m)\u001b[0m\u001b[0;34m\u001b[0m\u001b[0m\n",
      "\u001b[0;31mAttributeError\u001b[0m: 'NoneType' object has no attribute 'get_text'"
     ]
    }
   ],
   "source": [
    "for grouping in all_groupings:\n",
    "    names_list = grouping.find('ul')\n",
    "    category = grouping.find('h3').get_text()\n",
    "    alphabetical_names = names_list.find_all('li')\n",
    "    print(names_list, category, alphabetical_names)"
   ]
  },
  {
   "cell_type": "code",
   "execution_count": null,
   "metadata": {},
   "outputs": [],
   "source": []
  }
 ],
 "metadata": {
  "kernelspec": {
   "display_name": "Python 3",
   "language": "python",
   "name": "python3"
  },
  "language_info": {
   "codemirror_mode": {
    "name": "ipython",
    "version": 3
   },
   "file_extension": ".py",
   "mimetype": "text/x-python",
   "name": "python",
   "nbconvert_exporter": "python",
   "pygments_lexer": "ipython3",
   "version": "3.6.3"
  }
 },
 "nbformat": 4,
 "nbformat_minor": 2
}
